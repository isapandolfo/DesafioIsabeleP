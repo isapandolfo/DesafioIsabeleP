{
  "nbformat": 4,
  "nbformat_minor": 0,
  "metadata": {
    "colab": {
      "name": "desafio tunts.ipynb",
      "provenance": [],
      "authorship_tag": "ABX9TyNrOxyNt7H8cyl9yHgUlmQ7",
      "include_colab_link": true
    },
    "kernelspec": {
      "name": "python3",
      "display_name": "Python 3"
    },
    "language_info": {
      "name": "python"
    }
  },
  "cells": [
    {
      "cell_type": "markdown",
      "metadata": {
        "id": "view-in-github",
        "colab_type": "text"
      },
      "source": [
        "<a href=\"https://colab.research.google.com/github/isapandolfo/DesafioIsabeleP/blob/main/desafio_tunts.ipynb\" target=\"_parent\"><img src=\"https://colab.research.google.com/assets/colab-badge.svg\" alt=\"Open In Colab\"/></a>"
      ]
    },
    {
      "cell_type": "code",
      "metadata": {
        "colab": {
          "base_uri": "https://localhost:8080/"
        },
        "id": "Ovc5mZ5nP4yd",
        "outputId": "918e9a73-4562-4703-b129-87512e814682"
      },
      "source": [
        "pip install gspread\n"
      ],
      "execution_count": null,
      "outputs": [
        {
          "output_type": "stream",
          "text": [
            "Requirement already satisfied: gspread in /usr/local/lib/python3.7/dist-packages (3.0.1)\n",
            "Requirement already satisfied: requests>=2.2.1 in /usr/local/lib/python3.7/dist-packages (from gspread) (2.23.0)\n",
            "Requirement already satisfied: chardet<4,>=3.0.2 in /usr/local/lib/python3.7/dist-packages (from requests>=2.2.1->gspread) (3.0.4)\n",
            "Requirement already satisfied: idna<3,>=2.5 in /usr/local/lib/python3.7/dist-packages (from requests>=2.2.1->gspread) (2.10)\n",
            "Requirement already satisfied: certifi>=2017.4.17 in /usr/local/lib/python3.7/dist-packages (from requests>=2.2.1->gspread) (2021.5.30)\n",
            "Requirement already satisfied: urllib3!=1.25.0,!=1.25.1,<1.26,>=1.21.1 in /usr/local/lib/python3.7/dist-packages (from requests>=2.2.1->gspread) (1.24.3)\n"
          ],
          "name": "stdout"
        }
      ]
    },
    {
      "cell_type": "code",
      "metadata": {
        "colab": {
          "base_uri": "https://localhost:8080/"
        },
        "id": "RiNYd2P8Z-fB",
        "outputId": "46cb9a09-22d4-440b-cd02-f7328d4f1e82"
      },
      "source": [
        "\n",
        "\n",
        "from google.colab import auth\n",
        "auth.authenticate_user()\n",
        "\n",
        "import gspread\n",
        "from oauth2client.client import GoogleCredentials\n",
        "\n",
        "gc = gspread.authorize(GoogleCredentials.get_application_default())\n",
        "\n",
        "spreadsheet = gc.open('Engenharia de Software - Desafio [Isabele P. Becker]')\n",
        "\n",
        "page = spreadsheet.sheet1\n",
        "#columns enrollment student absences p1 p2 p3 situation grade_for_final_approval\n",
        "# start line 4\n",
        "# total of classes 60\n",
        "data_size = len(page.col_values(1))\n",
        "print(data_size)\n",
        "for i in range(4,data_size+1):\n",
        "  absences = int(page.cell(i,3).value)\n",
        "  absences_per = absences*100/60\n",
        "  p1 = int(page.cell(i,4).value)\n",
        "  p2 = int(page.cell(i,5).value)\n",
        "  p3 = int(page.cell(i,6).value)\n",
        "  average = round((p1+p2+p3)/3)\n",
        "  print(average)\n",
        "  final = ((50*2)-average)\n",
        "  if( absences_per<=25 and average>=70):\n",
        "    page.update_cell(i,7,'APROVADO')\n",
        "    page.update_cell(i,8,'0')\n",
        "  if( absences_per<=25 and average>=50 and average<=70):\n",
        "    page.update_cell(i,7,'EXAME FINAL')\n",
        "    page.update_cell(i,8,final)\n",
        "  if( absences_per<=25 and average<50):\n",
        "    page.update_cell(i,7,'REPROVADO POR NOTA')\n",
        "    page.update_cell(i,8,final)\n",
        "  if( absences_per> 25):\n",
        "    page.update_cell(i,7,'REPROVADO POR FALTA')\n",
        "    page.update_cell(i,8,final)"
      ],
      "execution_count": 2,
      "outputs": [
        {
          "output_type": "stream",
          "text": [
            "27\n",
            "53\n",
            "66\n",
            "64\n",
            "75\n",
            "62\n",
            "76\n",
            "57\n",
            "79\n",
            "58\n",
            "53\n",
            "63\n",
            "64\n",
            "78\n",
            "52\n",
            "69\n",
            "50\n",
            "60\n",
            "71\n",
            "43\n",
            "90\n",
            "75\n",
            "78\n",
            "73\n",
            "76\n"
          ],
          "name": "stdout"
        }
      ]
    }
  ]
}